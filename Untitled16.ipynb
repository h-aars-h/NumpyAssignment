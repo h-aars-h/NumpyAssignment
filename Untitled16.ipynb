{
 "cells": [
  {
   "cell_type": "code",
   "execution_count": 1,
   "id": "ba2aee23-b33d-4b95-8f06-ef5b4965ebf2",
   "metadata": {},
   "outputs": [],
   "source": [
    "import numpy as  np"
   ]
  },
  {
   "cell_type": "code",
   "execution_count": 2,
   "id": "e0a94553-a103-4829-9da2-1d9bb8adc866",
   "metadata": {},
   "outputs": [],
   "source": [
    "l = [1,56,54,2]"
   ]
  },
  {
   "cell_type": "code",
   "execution_count": 3,
   "id": "bb59d3f9-47b4-467d-8412-4d813045223f",
   "metadata": {},
   "outputs": [],
   "source": [
    "ar = np.array(l)"
   ]
  },
  {
   "cell_type": "code",
   "execution_count": 4,
   "id": "a8156eab-be3b-45e7-891a-0bf002b41304",
   "metadata": {},
   "outputs": [
    {
     "data": {
      "text/plain": [
       "array([ 1, 56, 54,  2])"
      ]
     },
     "execution_count": 4,
     "metadata": {},
     "output_type": "execute_result"
    }
   ],
   "source": [
    "ar"
   ]
  },
  {
   "cell_type": "code",
   "execution_count": 5,
   "id": "ace3b251-d875-4ab9-a01e-e1f5fec3e41a",
   "metadata": {},
   "outputs": [
    {
     "data": {
      "text/plain": [
       "numpy.ndarray"
      ]
     },
     "execution_count": 5,
     "metadata": {},
     "output_type": "execute_result"
    }
   ],
   "source": [
    "type(ar)"
   ]
  },
  {
   "cell_type": "code",
   "execution_count": 6,
   "id": "9d9cee8f-0ecc-4939-8d39-b1d1a9954b1a",
   "metadata": {},
   "outputs": [
    {
     "data": {
      "text/plain": [
       "array([[1, 5],\n",
       "       [5, 6]])"
      ]
     },
     "execution_count": 6,
     "metadata": {},
     "output_type": "execute_result"
    }
   ],
   "source": [
    "np.array([[1,5],[5,6]])"
   ]
  },
  {
   "cell_type": "code",
   "execution_count": 7,
   "id": "b96c1b9b-ee75-4532-8a60-e675df2809e9",
   "metadata": {},
   "outputs": [],
   "source": [
    "a=[4,23,4,5]"
   ]
  },
  {
   "cell_type": "code",
   "execution_count": 8,
   "id": "4882c397-8a66-444b-a4cc-7fbd0b8747ff",
   "metadata": {},
   "outputs": [],
   "source": [
    "c=a"
   ]
  },
  {
   "cell_type": "code",
   "execution_count": 9,
   "id": "dcc28502-f468-44ab-8521-3cb140a02ad4",
   "metadata": {},
   "outputs": [],
   "source": [
    "c[0]=6"
   ]
  },
  {
   "cell_type": "code",
   "execution_count": 10,
   "id": "4213d48e-9a40-4d6b-bf47-a83384d2aa49",
   "metadata": {},
   "outputs": [],
   "source": [
    "d=np.copy(a)"
   ]
  },
  {
   "cell_type": "code",
   "execution_count": 11,
   "id": "2873469c-fc3a-4684-afd3-d886d423ac8e",
   "metadata": {},
   "outputs": [],
   "source": [
    "a[0]=5"
   ]
  },
  {
   "cell_type": "code",
   "execution_count": 12,
   "id": "123f08c0-f264-4eaf-957a-90a77e2a29de",
   "metadata": {},
   "outputs": [],
   "source": [
    "d[0]=56"
   ]
  },
  {
   "cell_type": "code",
   "execution_count": 13,
   "id": "84c022a9-49a7-4990-9588-6415f8a2c3c8",
   "metadata": {},
   "outputs": [
    {
     "data": {
      "text/plain": [
       "[5, 23, 4, 5]"
      ]
     },
     "execution_count": 13,
     "metadata": {},
     "output_type": "execute_result"
    }
   ],
   "source": [
    "a"
   ]
  },
  {
   "cell_type": "code",
   "execution_count": 14,
   "id": "89763c7a-cc66-42a0-b38c-0d03e50de2c3",
   "metadata": {},
   "outputs": [
    {
     "data": {
      "text/plain": [
       "array([56, 23,  4,  5])"
      ]
     },
     "execution_count": 14,
     "metadata": {},
     "output_type": "execute_result"
    }
   ],
   "source": [
    "d"
   ]
  },
  {
   "cell_type": "code",
   "execution_count": 15,
   "id": "ae76c5c6-6fa6-4341-8980-22707c911dae",
   "metadata": {},
   "outputs": [
    {
     "data": {
      "text/plain": [
       "array([[ True, False, False],\n",
       "       [False,  True, False],\n",
       "       [False, False,  True]])"
      ]
     },
     "execution_count": 15,
     "metadata": {},
     "output_type": "execute_result"
    }
   ],
   "source": [
    "np.fromfunction(lambda i,j:i==j,(3,3))"
   ]
  },
  {
   "cell_type": "code",
   "execution_count": 16,
   "id": "d466d6e4-e7ce-4ad9-9528-ba033795982c",
   "metadata": {},
   "outputs": [
    {
     "data": {
      "text/plain": [
       "array([[1., 0., 0.],\n",
       "       [1., 1., 1.],\n",
       "       [1., 2., 4.]])"
      ]
     },
     "execution_count": 16,
     "metadata": {},
     "output_type": "execute_result"
    }
   ],
   "source": [
    "i=0\n",
    "j=0\n",
    "np.fromfunction(lambda i,j :i**j,(3,3))"
   ]
  },
  {
   "cell_type": "code",
   "execution_count": 17,
   "id": "6f5ba0ea-f6e2-4b60-93f2-f674b7b58757",
   "metadata": {},
   "outputs": [
    {
     "data": {
      "text/plain": [
       "array([[0., 0., 0.],\n",
       "       [0., 1., 2.],\n",
       "       [0., 2., 4.]])"
      ]
     },
     "execution_count": 17,
     "metadata": {},
     "output_type": "execute_result"
    }
   ],
   "source": [
    "np.fromfunction(lambda i,j:i*j,(3,3))"
   ]
  },
  {
   "cell_type": "code",
   "execution_count": 18,
   "id": "fc35e41b-2030-4d0c-bc52-4dd4461de5bf",
   "metadata": {},
   "outputs": [],
   "source": [
    "iterabel =(i*i for  i in range(5))"
   ]
  },
  {
   "cell_type": "code",
   "execution_count": 19,
   "id": "91141392-cd5d-458c-b5ed-01ce10db869e",
   "metadata": {},
   "outputs": [
    {
     "data": {
      "text/plain": [
       "array([ 0,  1,  4,  9, 16])"
      ]
     },
     "execution_count": 19,
     "metadata": {},
     "output_type": "execute_result"
    }
   ],
   "source": [
    "np.fromiter(iterabel,int)"
   ]
  },
  {
   "cell_type": "code",
   "execution_count": 20,
   "id": "864115ac-9a6c-482c-8b50-220d37e125c8",
   "metadata": {},
   "outputs": [],
   "source": [
    "import numpy as np\n",
    "list_ = [ \"1\" , \"2\" , \"3\" , \"4\" , \"5\" ]\n",
    "array_list = np.array(object = list_)"
   ]
  },
  {
   "cell_type": "code",
   "execution_count": 21,
   "id": "2156bfd1-4cf1-418e-aa31-57932234dc13",
   "metadata": {},
   "outputs": [
    {
     "data": {
      "text/plain": [
       "numpy.ndarray"
      ]
     },
     "execution_count": 21,
     "metadata": {},
     "output_type": "execute_result"
    }
   ],
   "source": [
    "type(array_list)"
   ]
  },
  {
   "cell_type": "code",
   "execution_count": 22,
   "id": "59288aa8-781b-44ba-a1c9-8d63ab73fb68",
   "metadata": {},
   "outputs": [
    {
     "data": {
      "text/plain": [
       "list"
      ]
     },
     "execution_count": 22,
     "metadata": {},
     "output_type": "execute_result"
    }
   ],
   "source": [
    "type(list_)"
   ]
  },
  {
   "cell_type": "code",
   "execution_count": 23,
   "id": "957a5a54-bbe1-4c2a-a266-e22548fc087f",
   "metadata": {},
   "outputs": [
    {
     "data": {
      "text/plain": [
       "['1', '2', '3', '4', '5']"
      ]
     },
     "execution_count": 23,
     "metadata": {},
     "output_type": "execute_result"
    }
   ],
   "source": [
    "list_"
   ]
  },
  {
   "cell_type": "code",
   "execution_count": 24,
   "id": "54bc46f7-88e6-4323-80d5-875f20db45ce",
   "metadata": {},
   "outputs": [
    {
     "data": {
      "text/plain": [
       "array(['1', '2', '3', '4', '5'], dtype='<U1')"
      ]
     },
     "execution_count": 24,
     "metadata": {},
     "output_type": "execute_result"
    }
   ],
   "source": [
    "array_list"
   ]
  },
  {
   "cell_type": "code",
   "execution_count": 25,
   "id": "55e2527c-7ee0-46d3-9a2f-34c202b01a1a",
   "metadata": {},
   "outputs": [
    {
     "data": {
      "text/plain": [
       "array([1.5, 2.5, 3.5, 4.5, 5.5])"
      ]
     },
     "execution_count": 25,
     "metadata": {},
     "output_type": "execute_result"
    }
   ],
   "source": [
    "np.arange(1.5,5.6)"
   ]
  },
  {
   "cell_type": "code",
   "execution_count": 26,
   "id": "d5310185-8da5-4d70-9128-be4048dc3bac",
   "metadata": {},
   "outputs": [
    {
     "data": {
      "text/plain": [
       "array([1.        , 1.44444444, 1.88888889, 2.33333333, 2.77777778,\n",
       "       3.22222222, 3.66666667, 4.11111111, 4.55555556, 5.        ])"
      ]
     },
     "execution_count": 26,
     "metadata": {},
     "output_type": "execute_result"
    }
   ],
   "source": [
    "np.linspace(1,5,10)"
   ]
  },
  {
   "cell_type": "code",
   "execution_count": 27,
   "id": "26df17ec-713f-4a95-bd72-f36d6265f114",
   "metadata": {},
   "outputs": [
    {
     "ename": "AttributeError",
     "evalue": "'builtin_function_or_method' object has no attribute 'fromfunction'",
     "output_type": "error",
     "traceback": [
      "\u001b[0;31m---------------------------------------------------------------------------\u001b[0m",
      "\u001b[0;31mAttributeError\u001b[0m                            Traceback (most recent call last)",
      "Cell \u001b[0;32mIn [27], line 1\u001b[0m\n\u001b[0;32m----> 1\u001b[0m \u001b[43mnp\u001b[49m\u001b[38;5;241;43m.\u001b[39;49m\u001b[43mzeros\u001b[49m\u001b[38;5;241;43m.\u001b[39;49m\u001b[43mfromfunction\u001b[49m(\u001b[38;5;28;01mlambda\u001b[39;00m i,j:i\u001b[38;5;241m*\u001b[39mj,(\u001b[38;5;241m3\u001b[39m,\u001b[38;5;241m3\u001b[39m))\n",
      "\u001b[0;31mAttributeError\u001b[0m: 'builtin_function_or_method' object has no attribute 'fromfunction'"
     ]
    }
   ],
   "source": [
    "np.zeros.fromfunction(lambda i,j:i*j,(3,3))"
   ]
  },
  {
   "cell_type": "code",
   "execution_count": 31,
   "id": "e65429c0-ca5f-4c89-94ba-9664e2f55453",
   "metadata": {},
   "outputs": [],
   "source": [
    "l1=np.zeros((3,3))"
   ]
  },
  {
   "cell_type": "code",
   "execution_count": 32,
   "id": "476e67ed-3ed7-4474-bcaf-56a0bff83a00",
   "metadata": {},
   "outputs": [
    {
     "data": {
      "text/plain": [
       "array([[0., 0., 0.],\n",
       "       [0., 0., 0.],\n",
       "       [0., 0., 0.]])"
      ]
     },
     "execution_count": 32,
     "metadata": {},
     "output_type": "execute_result"
    }
   ],
   "source": [
    "l1"
   ]
  },
  {
   "cell_type": "code",
   "execution_count": 37,
   "id": "d941742b-6eb1-4b56-b7ec-2ed3c96545b6",
   "metadata": {},
   "outputs": [],
   "source": [
    "arr = np.random.randn(2,3)"
   ]
  },
  {
   "cell_type": "code",
   "execution_count": 38,
   "id": "414f9fe7-2ac1-4f26-a40b-b61e482d0538",
   "metadata": {},
   "outputs": [],
   "source": [
    "import  pandas  as  pd "
   ]
  },
  {
   "cell_type": "code",
   "execution_count": 58,
   "id": "850c15be-24d7-409b-96fb-243e169e499f",
   "metadata": {},
   "outputs": [
    {
     "data": {
      "text/html": [
       "<div>\n",
       "<style scoped>\n",
       "    .dataframe tbody tr th:only-of-type {\n",
       "        vertical-align: middle;\n",
       "    }\n",
       "\n",
       "    .dataframe tbody tr th {\n",
       "        vertical-align: top;\n",
       "    }\n",
       "\n",
       "    .dataframe thead th {\n",
       "        text-align: right;\n",
       "    }\n",
       "</style>\n",
       "<table border=\"1\" class=\"dataframe\">\n",
       "  <thead>\n",
       "    <tr style=\"text-align: right;\">\n",
       "      <th></th>\n",
       "      <th>0</th>\n",
       "      <th>1</th>\n",
       "      <th>2</th>\n",
       "    </tr>\n",
       "  </thead>\n",
       "  <tbody>\n",
       "    <tr>\n",
       "      <th>0</th>\n",
       "      <td>-0.640548</td>\n",
       "      <td>0.786326</td>\n",
       "      <td>-0.753188</td>\n",
       "    </tr>\n",
       "    <tr>\n",
       "      <th>1</th>\n",
       "      <td>-1.331986</td>\n",
       "      <td>0.448076</td>\n",
       "      <td>0.977015</td>\n",
       "    </tr>\n",
       "  </tbody>\n",
       "</table>\n",
       "</div>"
      ],
      "text/plain": [
       "          0         1         2\n",
       "0 -0.640548  0.786326 -0.753188\n",
       "1 -1.331986  0.448076  0.977015"
      ]
     },
     "execution_count": 58,
     "metadata": {},
     "output_type": "execute_result"
    }
   ],
   "source": [
    "pd.DataFrame(arr)"
   ]
  },
  {
   "cell_type": "code",
   "execution_count": 50,
   "id": "233e40b4-d278-4eaf-b91e-d624710c7330",
   "metadata": {},
   "outputs": [
    {
     "data": {
      "text/plain": [
       "array([[27, 36, 63],\n",
       "       [18, 54, 28]])"
      ]
     },
     "execution_count": 50,
     "metadata": {},
     "output_type": "execute_result"
    }
   ],
   "source": [
    "np.random.randint(12,70,(2,3))"
   ]
  },
  {
   "cell_type": "code",
   "execution_count": 53,
   "id": "340cd70c-66ed-4d7d-a1bc-a44e13d6dbee",
   "metadata": {},
   "outputs": [],
   "source": [
    "import pandas as  pd"
   ]
  },
  {
   "cell_type": "code",
   "execution_count": 57,
   "id": "a9288ec2-73c5-469b-885e-43c7cd81af23",
   "metadata": {},
   "outputs": [],
   "source": [
    "pd.DataFrame(np.random.randint(0,100,(4,5))).to_csv(\"random.csv\")"
   ]
  },
  {
   "cell_type": "code",
   "execution_count": 63,
   "id": "24a5f6fd-4a2c-4d2f-a04e-3d946390bbc2",
   "metadata": {},
   "outputs": [
    {
     "data": {
      "text/plain": [
       "array([[-0.64054773,  0.78632624],\n",
       "       [-0.75318833, -1.33198641],\n",
       "       [ 0.44807602,  0.97701534]])"
      ]
     },
     "execution_count": 63,
     "metadata": {},
     "output_type": "execute_result"
    }
   ],
   "source": [
    "arr.reshape(3,2)"
   ]
  },
  {
   "cell_type": "code",
   "execution_count": 68,
   "id": "cbf66444-98c1-4e8b-a8d8-6f7fbeb67c30",
   "metadata": {},
   "outputs": [
    {
     "data": {
      "text/plain": [
       "0.448076023604265"
      ]
     },
     "execution_count": 68,
     "metadata": {},
     "output_type": "execute_result"
    }
   ],
   "source": [
    "arr[1][1]"
   ]
  },
  {
   "cell_type": "code",
   "execution_count": 69,
   "id": "1ab8e5c9-c302-4b91-8e63-32fcaf189fcb",
   "metadata": {},
   "outputs": [
    {
     "data": {
      "text/plain": [
       "array([[-0.64054773,  0.78632624, -0.75318833],\n",
       "       [-1.33198641,  0.44807602,  0.97701534]])"
      ]
     },
     "execution_count": 69,
     "metadata": {},
     "output_type": "execute_result"
    }
   ],
   "source": [
    "arr"
   ]
  },
  {
   "cell_type": "code",
   "execution_count": 72,
   "id": "3ca89cbc-b7f0-4b17-a1cc-89e6e71d2f97",
   "metadata": {},
   "outputs": [],
   "source": [
    "arr1=np.random.randint(1,100,(6,4))"
   ]
  },
  {
   "cell_type": "code",
   "execution_count": 73,
   "id": "c1cdb10e-1423-4c32-bf4c-9824b722465f",
   "metadata": {},
   "outputs": [
    {
     "data": {
      "text/plain": [
       "array([[33, 47, 18, 66],\n",
       "       [25, 97, 50, 14],\n",
       "       [62, 51, 55, 48],\n",
       "       [75, 47, 52, 26],\n",
       "       [66, 93, 35, 17],\n",
       "       [22, 92, 99, 50]])"
      ]
     },
     "execution_count": 73,
     "metadata": {},
     "output_type": "execute_result"
    }
   ],
   "source": [
    "arr1"
   ]
  },
  {
   "cell_type": "code",
   "execution_count": 79,
   "id": "f4795d89-94f0-4d6c-b3bc-74645cc8f294",
   "metadata": {},
   "outputs": [
    {
     "data": {
      "text/plain": [
       "array([55])"
      ]
     },
     "execution_count": 79,
     "metadata": {},
     "output_type": "execute_result"
    }
   ],
   "source": [
    "arr1[2:3,2]"
   ]
  },
  {
   "cell_type": "code",
   "execution_count": 81,
   "id": "31f3c0b6-dccc-404e-b4d2-7b2595d6eaf0",
   "metadata": {},
   "outputs": [
    {
     "data": {
      "text/plain": [
       "array([[False, False, False, False],\n",
       "       [False, False, False, False],\n",
       "       [False, False, False, False],\n",
       "       [False, False, False, False],\n",
       "       [False, False, False, False],\n",
       "       [False, False, False, False]])"
      ]
     },
     "execution_count": 81,
     "metadata": {},
     "output_type": "execute_result"
    }
   ],
   "source": [
    "arr1>150"
   ]
  },
  {
   "cell_type": "code",
   "execution_count": 82,
   "id": "d10e29d2-61cb-4ebe-a86c-114b36e56484",
   "metadata": {},
   "outputs": [
    {
     "data": {
      "text/plain": [
       "array([[33, 47, 18, 66],\n",
       "       [25, 97, 50, 14],\n",
       "       [62, 51, 55, 48],\n",
       "       [75, 47, 52, 26],\n",
       "       [66, 93, 35, 17],\n",
       "       [22, 92, 99, 50]])"
      ]
     },
     "execution_count": 82,
     "metadata": {},
     "output_type": "execute_result"
    }
   ],
   "source": [
    "arr1"
   ]
  },
  {
   "cell_type": "code",
   "execution_count": 91,
   "id": "b2d8f7e3-2ad6-4c30-adf9-2c536db13e03",
   "metadata": {},
   "outputs": [
    {
     "data": {
      "text/plain": [
       "array([[51, 48],\n",
       "       [47, 26]])"
      ]
     },
     "execution_count": 91,
     "metadata": {},
     "output_type": "execute_result"
    }
   ],
   "source": [
    "arr1[2:4,[1,3]]"
   ]
  },
  {
   "cell_type": "code",
   "execution_count": 92,
   "id": "348360b6-1ecf-412a-b5f6-de4358059c1a",
   "metadata": {},
   "outputs": [
    {
     "data": {
      "text/plain": [
       "array([[62, 51, 55, 48],\n",
       "       [75, 47, 52, 26]])"
      ]
     },
     "execution_count": 92,
     "metadata": {},
     "output_type": "execute_result"
    }
   ],
   "source": [
    "arr1[2:4]"
   ]
  },
  {
   "cell_type": "code",
   "execution_count": null,
   "id": "986ec214-f24c-4275-aad7-b5ce9de83be2",
   "metadata": {},
   "outputs": [],
   "source": []
  }
 ],
 "metadata": {
  "kernelspec": {
   "display_name": "Python 3 (ipykernel)",
   "language": "python",
   "name": "python3"
  },
  "language_info": {
   "codemirror_mode": {
    "name": "ipython",
    "version": 3
   },
   "file_extension": ".py",
   "mimetype": "text/x-python",
   "name": "python",
   "nbconvert_exporter": "python",
   "pygments_lexer": "ipython3",
   "version": "3.10.6"
  }
 },
 "nbformat": 4,
 "nbformat_minor": 5
}
